{
 "cells": [
  {
   "cell_type": "code",
   "execution_count": 1,
   "metadata": {},
   "outputs": [
    {
     "name": "stderr",
     "output_type": "stream",
     "text": [
      "Using TensorFlow backend.\n"
     ]
    }
   ],
   "source": [
    "import sys\n",
    "sys.path.append('..')\n",
    "import os\n",
    "\n",
    "from utils.constants import *\n",
    "from utils.file_readers import *\n",
    "from utils.data_exploration import *\n",
    "from utils.signal_processing import *\n",
    "from utils.sliding_window import *\n",
    "from utils.stand_norm import *\n",
    "from utils.one_vs_all_training import *\n",
    "from utils.experiment_utils import *"
   ]
  },
  {
   "cell_type": "markdown",
   "metadata": {},
   "source": [
    "### Visualising some results?"
   ]
  },
  {
   "cell_type": "code",
   "execution_count": 2,
   "metadata": {},
   "outputs": [],
   "source": [
    "experiment_stats = pd.read_csv(\"../Plots/experiment_stats.csv\")"
   ]
  },
  {
   "cell_type": "code",
   "execution_count": 3,
   "metadata": {
    "scrolled": true
   },
   "outputs": [
    {
     "data": {
      "text/html": [
       "<div>\n",
       "<style scoped>\n",
       "    .dataframe tbody tr th:only-of-type {\n",
       "        vertical-align: middle;\n",
       "    }\n",
       "\n",
       "    .dataframe tbody tr th {\n",
       "        vertical-align: top;\n",
       "    }\n",
       "\n",
       "    .dataframe thead th {\n",
       "        text-align: right;\n",
       "    }\n",
       "</style>\n",
       "<table border=\"1\" class=\"dataframe\">\n",
       "  <thead>\n",
       "    <tr style=\"text-align: right;\">\n",
       "      <th></th>\n",
       "      <th>experiment_name</th>\n",
       "      <th>activity_name</th>\n",
       "      <th>correctness</th>\n",
       "      <th>random_seed</th>\n",
       "      <th>n_train_subjects</th>\n",
       "      <th>n_validation_subjects</th>\n",
       "      <th>n_time_steps</th>\n",
       "      <th>step</th>\n",
       "      <th>n_features</th>\n",
       "      <th>features</th>\n",
       "      <th>...</th>\n",
       "      <th>mean_accuracy_valid</th>\n",
       "      <th>mean_loss_valid</th>\n",
       "      <th>std_accuracy_valid</th>\n",
       "      <th>std_loss_valid</th>\n",
       "      <th>mean_accuracy_test</th>\n",
       "      <th>mean_f1_test</th>\n",
       "      <th>mean_loss_test</th>\n",
       "      <th>std_accuracy_test</th>\n",
       "      <th>std_f1_test</th>\n",
       "      <th>std_loss_test</th>\n",
       "    </tr>\n",
       "  </thead>\n",
       "  <tbody>\n",
       "    <tr>\n",
       "      <th>0</th>\n",
       "      <td>00_sit_to_stand_downsample_16_all_correctness_...</td>\n",
       "      <td>Sit to stand</td>\n",
       "      <td>all</td>\n",
       "      <td>42</td>\n",
       "      <td>12</td>\n",
       "      <td>2</td>\n",
       "      <td>38</td>\n",
       "      <td>19</td>\n",
       "      <td>3</td>\n",
       "      <td>normalised</td>\n",
       "      <td>...</td>\n",
       "      <td>0.912056</td>\n",
       "      <td>0.248081</td>\n",
       "      <td>0.024233</td>\n",
       "      <td>0.067549</td>\n",
       "      <td>0.904055</td>\n",
       "      <td>0.765533</td>\n",
       "      <td>0.258383</td>\n",
       "      <td>0.035780</td>\n",
       "      <td>0.076058</td>\n",
       "      <td>0.093180</td>\n",
       "    </tr>\n",
       "    <tr>\n",
       "      <th>1</th>\n",
       "      <td>0_Sit_to_stand_downsample_16_balance_25_128_fi...</td>\n",
       "      <td>Sit to stand</td>\n",
       "      <td>all</td>\n",
       "      <td>42</td>\n",
       "      <td>12</td>\n",
       "      <td>2</td>\n",
       "      <td>38</td>\n",
       "      <td>19</td>\n",
       "      <td>3</td>\n",
       "      <td>normalised</td>\n",
       "      <td>...</td>\n",
       "      <td>0.157308</td>\n",
       "      <td>0.746317</td>\n",
       "      <td>0.017922</td>\n",
       "      <td>0.013474</td>\n",
       "      <td>0.159623</td>\n",
       "      <td>0.274591</td>\n",
       "      <td>0.746376</td>\n",
       "      <td>0.024368</td>\n",
       "      <td>0.035013</td>\n",
       "      <td>0.013384</td>\n",
       "    </tr>\n",
       "    <tr>\n",
       "      <th>2</th>\n",
       "      <td>000_Sit_to_stand_downsample_16_balance_25_128_...</td>\n",
       "      <td>Sit to stand</td>\n",
       "      <td>all</td>\n",
       "      <td>42</td>\n",
       "      <td>12</td>\n",
       "      <td>2</td>\n",
       "      <td>38</td>\n",
       "      <td>19</td>\n",
       "      <td>3</td>\n",
       "      <td>normalised</td>\n",
       "      <td>...</td>\n",
       "      <td>0.925932</td>\n",
       "      <td>0.205479</td>\n",
       "      <td>0.020597</td>\n",
       "      <td>0.056388</td>\n",
       "      <td>0.923063</td>\n",
       "      <td>0.800918</td>\n",
       "      <td>0.213091</td>\n",
       "      <td>0.035458</td>\n",
       "      <td>0.081283</td>\n",
       "      <td>0.102341</td>\n",
       "    </tr>\n",
       "    <tr>\n",
       "      <th>3</th>\n",
       "      <td>001_Knee_extension_downsample_16_balance_25_12...</td>\n",
       "      <td>Knee extension</td>\n",
       "      <td>all</td>\n",
       "      <td>42</td>\n",
       "      <td>12</td>\n",
       "      <td>2</td>\n",
       "      <td>38</td>\n",
       "      <td>19</td>\n",
       "      <td>3</td>\n",
       "      <td>normalised</td>\n",
       "      <td>...</td>\n",
       "      <td>0.927107</td>\n",
       "      <td>0.192441</td>\n",
       "      <td>0.018155</td>\n",
       "      <td>0.049760</td>\n",
       "      <td>0.930224</td>\n",
       "      <td>0.690850</td>\n",
       "      <td>0.190204</td>\n",
       "      <td>0.032894</td>\n",
       "      <td>0.102842</td>\n",
       "      <td>0.106835</td>\n",
       "    </tr>\n",
       "    <tr>\n",
       "      <th>4</th>\n",
       "      <td>002_Squats_downsample_16_balance_25_128_filters</td>\n",
       "      <td>Squats</td>\n",
       "      <td>all</td>\n",
       "      <td>42</td>\n",
       "      <td>12</td>\n",
       "      <td>2</td>\n",
       "      <td>38</td>\n",
       "      <td>19</td>\n",
       "      <td>3</td>\n",
       "      <td>normalised</td>\n",
       "      <td>...</td>\n",
       "      <td>0.881267</td>\n",
       "      <td>0.311196</td>\n",
       "      <td>0.048398</td>\n",
       "      <td>0.133806</td>\n",
       "      <td>0.893875</td>\n",
       "      <td>0.661732</td>\n",
       "      <td>0.271579</td>\n",
       "      <td>0.039560</td>\n",
       "      <td>0.091391</td>\n",
       "      <td>0.107157</td>\n",
       "    </tr>\n",
       "    <tr>\n",
       "      <th>5</th>\n",
       "      <td>00all_64_filters</td>\n",
       "      <td>all</td>\n",
       "      <td>all</td>\n",
       "      <td>42</td>\n",
       "      <td>12</td>\n",
       "      <td>2</td>\n",
       "      <td>38</td>\n",
       "      <td>19</td>\n",
       "      <td>3</td>\n",
       "      <td>normalised</td>\n",
       "      <td>...</td>\n",
       "      <td>0.725089</td>\n",
       "      <td>0.860731</td>\n",
       "      <td>0.041283</td>\n",
       "      <td>0.094856</td>\n",
       "      <td>0.726605</td>\n",
       "      <td>0.947329</td>\n",
       "      <td>0.857724</td>\n",
       "      <td>0.064673</td>\n",
       "      <td>0.063130</td>\n",
       "      <td>0.156454</td>\n",
       "    </tr>\n",
       "    <tr>\n",
       "      <th>6</th>\n",
       "      <td>01all_batch_size_64</td>\n",
       "      <td>all</td>\n",
       "      <td>all</td>\n",
       "      <td>42</td>\n",
       "      <td>12</td>\n",
       "      <td>2</td>\n",
       "      <td>38</td>\n",
       "      <td>19</td>\n",
       "      <td>3</td>\n",
       "      <td>normalised</td>\n",
       "      <td>...</td>\n",
       "      <td>0.695704</td>\n",
       "      <td>0.947230</td>\n",
       "      <td>0.037829</td>\n",
       "      <td>0.084849</td>\n",
       "      <td>0.693636</td>\n",
       "      <td>0.938413</td>\n",
       "      <td>0.942897</td>\n",
       "      <td>0.057487</td>\n",
       "      <td>0.076626</td>\n",
       "      <td>0.136513</td>\n",
       "    </tr>\n",
       "    <tr>\n",
       "      <th>7</th>\n",
       "      <td>00all_window_size_50_400_epochs</td>\n",
       "      <td>all</td>\n",
       "      <td>all</td>\n",
       "      <td>42</td>\n",
       "      <td>12</td>\n",
       "      <td>2</td>\n",
       "      <td>50</td>\n",
       "      <td>25</td>\n",
       "      <td>3</td>\n",
       "      <td>normalised</td>\n",
       "      <td>...</td>\n",
       "      <td>0.792394</td>\n",
       "      <td>0.654151</td>\n",
       "      <td>0.041164</td>\n",
       "      <td>0.095628</td>\n",
       "      <td>0.803456</td>\n",
       "      <td>0.959464</td>\n",
       "      <td>0.644103</td>\n",
       "      <td>0.066215</td>\n",
       "      <td>0.069602</td>\n",
       "      <td>0.183745</td>\n",
       "    </tr>\n",
       "    <tr>\n",
       "      <th>8</th>\n",
       "      <td>00all_window_size_62_5_400_epochs</td>\n",
       "      <td>all</td>\n",
       "      <td>all</td>\n",
       "      <td>42</td>\n",
       "      <td>12</td>\n",
       "      <td>2</td>\n",
       "      <td>63</td>\n",
       "      <td>25</td>\n",
       "      <td>3</td>\n",
       "      <td>normalised</td>\n",
       "      <td>...</td>\n",
       "      <td>0.821440</td>\n",
       "      <td>0.569039</td>\n",
       "      <td>0.045877</td>\n",
       "      <td>0.118178</td>\n",
       "      <td>0.830910</td>\n",
       "      <td>0.965301</td>\n",
       "      <td>0.552498</td>\n",
       "      <td>0.066211</td>\n",
       "      <td>0.062277</td>\n",
       "      <td>0.193410</td>\n",
       "    </tr>\n",
       "    <tr>\n",
       "      <th>9</th>\n",
       "      <td>01all_window_size_50_128_filters</td>\n",
       "      <td>all</td>\n",
       "      <td>all</td>\n",
       "      <td>42</td>\n",
       "      <td>12</td>\n",
       "      <td>2</td>\n",
       "      <td>50</td>\n",
       "      <td>25</td>\n",
       "      <td>3</td>\n",
       "      <td>normalised</td>\n",
       "      <td>...</td>\n",
       "      <td>0.810263</td>\n",
       "      <td>0.609122</td>\n",
       "      <td>0.042960</td>\n",
       "      <td>0.101629</td>\n",
       "      <td>0.815302</td>\n",
       "      <td>0.964934</td>\n",
       "      <td>0.597862</td>\n",
       "      <td>0.064730</td>\n",
       "      <td>0.062228</td>\n",
       "      <td>0.195575</td>\n",
       "    </tr>\n",
       "  </tbody>\n",
       "</table>\n",
       "<p>10 rows × 32 columns</p>\n",
       "</div>"
      ],
      "text/plain": [
       "                                     experiment_name   activity_name  \\\n",
       "0  00_sit_to_stand_downsample_16_all_correctness_...    Sit to stand   \n",
       "1  0_Sit_to_stand_downsample_16_balance_25_128_fi...    Sit to stand   \n",
       "2  000_Sit_to_stand_downsample_16_balance_25_128_...    Sit to stand   \n",
       "3  001_Knee_extension_downsample_16_balance_25_12...  Knee extension   \n",
       "4    002_Squats_downsample_16_balance_25_128_filters          Squats   \n",
       "5                                   00all_64_filters             all   \n",
       "6                                01all_batch_size_64             all   \n",
       "7                    00all_window_size_50_400_epochs             all   \n",
       "8                  00all_window_size_62_5_400_epochs             all   \n",
       "9                   01all_window_size_50_128_filters             all   \n",
       "\n",
       "  correctness  random_seed  n_train_subjects  n_validation_subjects  \\\n",
       "0         all           42                12                      2   \n",
       "1         all           42                12                      2   \n",
       "2         all           42                12                      2   \n",
       "3         all           42                12                      2   \n",
       "4         all           42                12                      2   \n",
       "5         all           42                12                      2   \n",
       "6         all           42                12                      2   \n",
       "7         all           42                12                      2   \n",
       "8         all           42                12                      2   \n",
       "9         all           42                12                      2   \n",
       "\n",
       "   n_time_steps  step  n_features    features  ...  mean_accuracy_valid  \\\n",
       "0            38    19           3  normalised  ...             0.912056   \n",
       "1            38    19           3  normalised  ...             0.157308   \n",
       "2            38    19           3  normalised  ...             0.925932   \n",
       "3            38    19           3  normalised  ...             0.927107   \n",
       "4            38    19           3  normalised  ...             0.881267   \n",
       "5            38    19           3  normalised  ...             0.725089   \n",
       "6            38    19           3  normalised  ...             0.695704   \n",
       "7            50    25           3  normalised  ...             0.792394   \n",
       "8            63    25           3  normalised  ...             0.821440   \n",
       "9            50    25           3  normalised  ...             0.810263   \n",
       "\n",
       "   mean_loss_valid std_accuracy_valid  std_loss_valid  mean_accuracy_test  \\\n",
       "0         0.248081           0.024233        0.067549            0.904055   \n",
       "1         0.746317           0.017922        0.013474            0.159623   \n",
       "2         0.205479           0.020597        0.056388            0.923063   \n",
       "3         0.192441           0.018155        0.049760            0.930224   \n",
       "4         0.311196           0.048398        0.133806            0.893875   \n",
       "5         0.860731           0.041283        0.094856            0.726605   \n",
       "6         0.947230           0.037829        0.084849            0.693636   \n",
       "7         0.654151           0.041164        0.095628            0.803456   \n",
       "8         0.569039           0.045877        0.118178            0.830910   \n",
       "9         0.609122           0.042960        0.101629            0.815302   \n",
       "\n",
       "   mean_f1_test  mean_loss_test  std_accuracy_test  std_f1_test  std_loss_test  \n",
       "0      0.765533        0.258383           0.035780     0.076058       0.093180  \n",
       "1      0.274591        0.746376           0.024368     0.035013       0.013384  \n",
       "2      0.800918        0.213091           0.035458     0.081283       0.102341  \n",
       "3      0.690850        0.190204           0.032894     0.102842       0.106835  \n",
       "4      0.661732        0.271579           0.039560     0.091391       0.107157  \n",
       "5      0.947329        0.857724           0.064673     0.063130       0.156454  \n",
       "6      0.938413        0.942897           0.057487     0.076626       0.136513  \n",
       "7      0.959464        0.644103           0.066215     0.069602       0.183745  \n",
       "8      0.965301        0.552498           0.066211     0.062277       0.193410  \n",
       "9      0.964934        0.597862           0.064730     0.062228       0.195575  \n",
       "\n",
       "[10 rows x 32 columns]"
      ]
     },
     "execution_count": 3,
     "metadata": {},
     "output_type": "execute_result"
    }
   ],
   "source": [
    "experiment_stats"
   ]
  },
  {
   "cell_type": "code",
   "execution_count": 4,
   "metadata": {},
   "outputs": [
    {
     "data": {
      "text/plain": [
       "Index(['experiment_name', 'activity_name', 'correctness', 'random_seed',\n",
       "       'n_train_subjects', 'n_validation_subjects', 'n_time_steps', 'step',\n",
       "       'n_features', 'features', 'num_filters', 'kernel_size', 'activation',\n",
       "       'lr', 'batch_size', 'epochs', 'downsample_rate',\n",
       "       'positive_class_weight', 'mean_accuracy_train', 'mean_loss_train',\n",
       "       'std_accuracy_train', 'std_loss_train', 'mean_accuracy_valid',\n",
       "       'mean_loss_valid', 'std_accuracy_valid', 'std_loss_valid',\n",
       "       'mean_accuracy_test', 'mean_f1_test', 'mean_loss_test',\n",
       "       'std_accuracy_test', 'std_f1_test', 'std_loss_test'],\n",
       "      dtype='object')"
      ]
     },
     "execution_count": 4,
     "metadata": {},
     "output_type": "execute_result"
    }
   ],
   "source": [
    "experiment_stats.columns"
   ]
  },
  {
   "cell_type": "markdown",
   "metadata": {},
   "source": [
    "Filter for experiments with all losoxv"
   ]
  },
  {
   "cell_type": "code",
   "execution_count": 9,
   "metadata": {},
   "outputs": [],
   "source": [
    "experiment_stats_all = experiment_stats[experiment_stats['activity_name'] == 'all']"
   ]
  },
  {
   "cell_type": "code",
   "execution_count": 10,
   "metadata": {},
   "outputs": [
    {
     "data": {
      "text/html": [
       "<div>\n",
       "<style scoped>\n",
       "    .dataframe tbody tr th:only-of-type {\n",
       "        vertical-align: middle;\n",
       "    }\n",
       "\n",
       "    .dataframe tbody tr th {\n",
       "        vertical-align: top;\n",
       "    }\n",
       "\n",
       "    .dataframe thead th {\n",
       "        text-align: right;\n",
       "    }\n",
       "</style>\n",
       "<table border=\"1\" class=\"dataframe\">\n",
       "  <thead>\n",
       "    <tr style=\"text-align: right;\">\n",
       "      <th></th>\n",
       "      <th>experiment_name</th>\n",
       "      <th>activity_name</th>\n",
       "      <th>correctness</th>\n",
       "      <th>random_seed</th>\n",
       "      <th>n_train_subjects</th>\n",
       "      <th>n_validation_subjects</th>\n",
       "      <th>n_time_steps</th>\n",
       "      <th>step</th>\n",
       "      <th>n_features</th>\n",
       "      <th>features</th>\n",
       "      <th>...</th>\n",
       "      <th>mean_accuracy_valid</th>\n",
       "      <th>mean_loss_valid</th>\n",
       "      <th>std_accuracy_valid</th>\n",
       "      <th>std_loss_valid</th>\n",
       "      <th>mean_accuracy_test</th>\n",
       "      <th>mean_f1_test</th>\n",
       "      <th>mean_loss_test</th>\n",
       "      <th>std_accuracy_test</th>\n",
       "      <th>std_f1_test</th>\n",
       "      <th>std_loss_test</th>\n",
       "    </tr>\n",
       "  </thead>\n",
       "  <tbody>\n",
       "    <tr>\n",
       "      <th>5</th>\n",
       "      <td>00all_64_filters</td>\n",
       "      <td>all</td>\n",
       "      <td>all</td>\n",
       "      <td>42</td>\n",
       "      <td>12</td>\n",
       "      <td>2</td>\n",
       "      <td>38</td>\n",
       "      <td>19</td>\n",
       "      <td>3</td>\n",
       "      <td>normalised</td>\n",
       "      <td>...</td>\n",
       "      <td>0.725089</td>\n",
       "      <td>0.860731</td>\n",
       "      <td>0.041283</td>\n",
       "      <td>0.094856</td>\n",
       "      <td>0.726605</td>\n",
       "      <td>0.947329</td>\n",
       "      <td>0.857724</td>\n",
       "      <td>0.064673</td>\n",
       "      <td>0.063130</td>\n",
       "      <td>0.156454</td>\n",
       "    </tr>\n",
       "    <tr>\n",
       "      <th>6</th>\n",
       "      <td>01all_batch_size_64</td>\n",
       "      <td>all</td>\n",
       "      <td>all</td>\n",
       "      <td>42</td>\n",
       "      <td>12</td>\n",
       "      <td>2</td>\n",
       "      <td>38</td>\n",
       "      <td>19</td>\n",
       "      <td>3</td>\n",
       "      <td>normalised</td>\n",
       "      <td>...</td>\n",
       "      <td>0.695704</td>\n",
       "      <td>0.947230</td>\n",
       "      <td>0.037829</td>\n",
       "      <td>0.084849</td>\n",
       "      <td>0.693636</td>\n",
       "      <td>0.938413</td>\n",
       "      <td>0.942897</td>\n",
       "      <td>0.057487</td>\n",
       "      <td>0.076626</td>\n",
       "      <td>0.136513</td>\n",
       "    </tr>\n",
       "    <tr>\n",
       "      <th>7</th>\n",
       "      <td>00all_window_size_50_400_epochs</td>\n",
       "      <td>all</td>\n",
       "      <td>all</td>\n",
       "      <td>42</td>\n",
       "      <td>12</td>\n",
       "      <td>2</td>\n",
       "      <td>50</td>\n",
       "      <td>25</td>\n",
       "      <td>3</td>\n",
       "      <td>normalised</td>\n",
       "      <td>...</td>\n",
       "      <td>0.792394</td>\n",
       "      <td>0.654151</td>\n",
       "      <td>0.041164</td>\n",
       "      <td>0.095628</td>\n",
       "      <td>0.803456</td>\n",
       "      <td>0.959464</td>\n",
       "      <td>0.644103</td>\n",
       "      <td>0.066215</td>\n",
       "      <td>0.069602</td>\n",
       "      <td>0.183745</td>\n",
       "    </tr>\n",
       "    <tr>\n",
       "      <th>8</th>\n",
       "      <td>00all_window_size_62_5_400_epochs</td>\n",
       "      <td>all</td>\n",
       "      <td>all</td>\n",
       "      <td>42</td>\n",
       "      <td>12</td>\n",
       "      <td>2</td>\n",
       "      <td>63</td>\n",
       "      <td>25</td>\n",
       "      <td>3</td>\n",
       "      <td>normalised</td>\n",
       "      <td>...</td>\n",
       "      <td>0.821440</td>\n",
       "      <td>0.569039</td>\n",
       "      <td>0.045877</td>\n",
       "      <td>0.118178</td>\n",
       "      <td>0.830910</td>\n",
       "      <td>0.965301</td>\n",
       "      <td>0.552498</td>\n",
       "      <td>0.066211</td>\n",
       "      <td>0.062277</td>\n",
       "      <td>0.193410</td>\n",
       "    </tr>\n",
       "    <tr>\n",
       "      <th>9</th>\n",
       "      <td>01all_window_size_50_128_filters</td>\n",
       "      <td>all</td>\n",
       "      <td>all</td>\n",
       "      <td>42</td>\n",
       "      <td>12</td>\n",
       "      <td>2</td>\n",
       "      <td>50</td>\n",
       "      <td>25</td>\n",
       "      <td>3</td>\n",
       "      <td>normalised</td>\n",
       "      <td>...</td>\n",
       "      <td>0.810263</td>\n",
       "      <td>0.609122</td>\n",
       "      <td>0.042960</td>\n",
       "      <td>0.101629</td>\n",
       "      <td>0.815302</td>\n",
       "      <td>0.964934</td>\n",
       "      <td>0.597862</td>\n",
       "      <td>0.064730</td>\n",
       "      <td>0.062228</td>\n",
       "      <td>0.195575</td>\n",
       "    </tr>\n",
       "  </tbody>\n",
       "</table>\n",
       "<p>5 rows × 32 columns</p>\n",
       "</div>"
      ],
      "text/plain": [
       "                     experiment_name activity_name correctness  random_seed  \\\n",
       "5                   00all_64_filters           all         all           42   \n",
       "6                01all_batch_size_64           all         all           42   \n",
       "7    00all_window_size_50_400_epochs           all         all           42   \n",
       "8  00all_window_size_62_5_400_epochs           all         all           42   \n",
       "9   01all_window_size_50_128_filters           all         all           42   \n",
       "\n",
       "   n_train_subjects  n_validation_subjects  n_time_steps  step  n_features  \\\n",
       "5                12                      2            38    19           3   \n",
       "6                12                      2            38    19           3   \n",
       "7                12                      2            50    25           3   \n",
       "8                12                      2            63    25           3   \n",
       "9                12                      2            50    25           3   \n",
       "\n",
       "     features  ...  mean_accuracy_valid  mean_loss_valid std_accuracy_valid  \\\n",
       "5  normalised  ...             0.725089         0.860731           0.041283   \n",
       "6  normalised  ...             0.695704         0.947230           0.037829   \n",
       "7  normalised  ...             0.792394         0.654151           0.041164   \n",
       "8  normalised  ...             0.821440         0.569039           0.045877   \n",
       "9  normalised  ...             0.810263         0.609122           0.042960   \n",
       "\n",
       "   std_loss_valid  mean_accuracy_test  mean_f1_test  mean_loss_test  \\\n",
       "5        0.094856            0.726605      0.947329        0.857724   \n",
       "6        0.084849            0.693636      0.938413        0.942897   \n",
       "7        0.095628            0.803456      0.959464        0.644103   \n",
       "8        0.118178            0.830910      0.965301        0.552498   \n",
       "9        0.101629            0.815302      0.964934        0.597862   \n",
       "\n",
       "   std_accuracy_test  std_f1_test  std_loss_test  \n",
       "5           0.064673     0.063130       0.156454  \n",
       "6           0.057487     0.076626       0.136513  \n",
       "7           0.066215     0.069602       0.183745  \n",
       "8           0.066211     0.062277       0.193410  \n",
       "9           0.064730     0.062228       0.195575  \n",
       "\n",
       "[5 rows x 32 columns]"
      ]
     },
     "execution_count": 10,
     "metadata": {},
     "output_type": "execute_result"
    }
   ],
   "source": [
    "experiment_stats_all"
   ]
  },
  {
   "cell_type": "code",
   "execution_count": 15,
   "metadata": {},
   "outputs": [
    {
     "data": {
      "text/plain": [
       "<BarContainer object of 5 artists>"
      ]
     },
     "execution_count": 15,
     "metadata": {},
     "output_type": "execute_result"
    },
    {
     "data": {
      "image/png": "[encoded data removed]",
      "text/plain": [
       "<Figure size 432x288 with 1 Axes>"
      ]
     },
     "metadata": {
      "needs_background": "light"
     },
     "output_type": "display_data"
    }
   ],
   "source": [
    "plt.bar(experiment_stats_all['n_time_steps'], experiment_stats_all['mean_accuracy_test'])"
   ]
  },
  {
   "cell_type": "code",
   "execution_count": 16,
   "metadata": {},
   "outputs": [
    {
     "data": {
      "text/plain": [
       "<BarContainer object of 5 artists>"
      ]
     },
     "execution_count": 16,
     "metadata": {},
     "output_type": "execute_result"
    },
    {
     "data": {
      "image/png": "[encoded data removed]",
      "text/plain": [
       "<Figure size 432x288 with 1 Axes>"
      ]
     },
     "metadata": {
      "needs_background": "light"
     },
     "output_type": "display_data"
    }
   ],
   "source": [
    "plt.bar(experiment_stats_all['n_time_steps'], experiment_stats_all['mean_loss_test'])"
   ]
  },
  {
   "cell_type": "code",
   "execution_count": 17,
   "metadata": {},
   "outputs": [
    {
     "data": {
      "text/plain": [
       "<BarContainer object of 5 artists>"
      ]
     },
     "execution_count": 17,
     "metadata": {},
     "output_type": "execute_result"
    },
    {
     "data": {
      "image/png": "[encoded data removed]",
      "text/plain": [
       "<Figure size 432x288 with 1 Axes>"
      ]
     },
     "metadata": {
      "needs_background": "light"
     },
     "output_type": "display_data"
    }
   ],
   "source": [
    "plt.bar(experiment_stats_all['num_filters'], experiment_stats_all['mean_accuracy_test'])"
   ]
  },
  {
   "cell_type": "markdown",
   "metadata": {},
   "source": [
    "### Window size?"
   ]
  },
  {
   "cell_type": "code",
   "execution_count": 20,
   "metadata": {},
   "outputs": [
    {
     "data": {
      "text/plain": [
       "<ErrorbarContainer object of 3 artists>"
      ]
     },
     "execution_count": 20,
     "metadata": {},
     "output_type": "execute_result"
    },
    {
     "data": {
      "image/png": "[encoded data removed]",
      "text/plain": [
       "<Figure size 432x288 with 1 Axes>"
      ]
     },
     "metadata": {
      "needs_background": "light"
     },
     "output_type": "display_data"
    }
   ],
   "source": [
    "plt.errorbar(x=experiment_stats_all['n_time_steps'], y=experiment_stats_all['mean_accuracy_test'], \n",
    "             yerr=experiment_stats_all['std_accuracy_test'], fmt='o', color='black',\n",
    "            ecolor='lightgray', elinewidth=3, capsize=0)"
   ]
  },
  {
   "cell_type": "markdown",
   "metadata": {},
   "source": [
    "Larger seems better"
   ]
  },
  {
   "cell_type": "markdown",
   "metadata": {},
   "source": [
    "### Larger batch size?"
   ]
  },
  {
   "cell_type": "code",
   "execution_count": 21,
   "metadata": {},
   "outputs": [
    {
     "data": {
      "text/plain": [
       "<ErrorbarContainer object of 3 artists>"
      ]
     },
     "execution_count": 21,
     "metadata": {},
     "output_type": "execute_result"
    },
    {
     "data": {
      "image/png": "[encoded data removed]",
      "text/plain": [
       "<Figure size 432x288 with 1 Axes>"
      ]
     },
     "metadata": {
      "needs_background": "light"
     },
     "output_type": "display_data"
    }
   ],
   "source": [
    "plt.errorbar(x=experiment_stats_all['batch_size'], y=experiment_stats_all['mean_accuracy_test'], \n",
    "             yerr=experiment_stats_all['std_accuracy_test'], fmt='o', color='black',\n",
    "            ecolor='lightgray', elinewidth=3, capsize=0)"
   ]
  },
  {
   "cell_type": "markdown",
   "metadata": {},
   "source": [
    "Looks like nope"
   ]
  },
  {
   "cell_type": "markdown",
   "metadata": {},
   "source": [
    "### More filters?"
   ]
  },
  {
   "cell_type": "code",
   "execution_count": 22,
   "metadata": {},
   "outputs": [
    {
     "data": {
      "text/plain": [
       "<ErrorbarContainer object of 3 artists>"
      ]
     },
     "execution_count": 22,
     "metadata": {},
     "output_type": "execute_result"
    },
    {
     "data": {
      "image/png": "[encoded data removed]",
      "text/plain": [
       "<Figure size 432x288 with 1 Axes>"
      ]
     },
     "metadata": {
      "needs_background": "light"
     },
     "output_type": "display_data"
    }
   ],
   "source": [
    "plt.errorbar(x=experiment_stats_all['num_filters'], y=experiment_stats_all['mean_accuracy_test'], \n",
    "             yerr=experiment_stats_all['std_accuracy_test'], fmt='o', color='black',\n",
    "            ecolor='lightgray', elinewidth=3, capsize=0)"
   ]
  },
  {
   "cell_type": "markdown",
   "metadata": {},
   "source": [
    "Maybe. We can try batch size of 32 and 128 filters, then batch_size 32 and 256 filters with a large window size"
   ]
  },
  {
   "cell_type": "code",
   "execution_count": 24,
   "metadata": {},
   "outputs": [
    {
     "data": {
      "text/html": [
       "<div>\n",
       "<style scoped>\n",
       "    .dataframe tbody tr th:only-of-type {\n",
       "        vertical-align: middle;\n",
       "    }\n",
       "\n",
       "    .dataframe tbody tr th {\n",
       "        vertical-align: top;\n",
       "    }\n",
       "\n",
       "    .dataframe thead th {\n",
       "        text-align: right;\n",
       "    }\n",
       "</style>\n",
       "<table border=\"1\" class=\"dataframe\">\n",
       "  <thead>\n",
       "    <tr style=\"text-align: right;\">\n",
       "      <th></th>\n",
       "      <th>experiment_name</th>\n",
       "      <th>activity_name</th>\n",
       "      <th>correctness</th>\n",
       "      <th>random_seed</th>\n",
       "      <th>n_train_subjects</th>\n",
       "      <th>n_validation_subjects</th>\n",
       "      <th>n_time_steps</th>\n",
       "      <th>step</th>\n",
       "      <th>n_features</th>\n",
       "      <th>features</th>\n",
       "      <th>...</th>\n",
       "      <th>mean_accuracy_valid</th>\n",
       "      <th>mean_loss_valid</th>\n",
       "      <th>std_accuracy_valid</th>\n",
       "      <th>std_loss_valid</th>\n",
       "      <th>mean_accuracy_test</th>\n",
       "      <th>mean_f1_test</th>\n",
       "      <th>mean_loss_test</th>\n",
       "      <th>std_accuracy_test</th>\n",
       "      <th>std_f1_test</th>\n",
       "      <th>std_loss_test</th>\n",
       "    </tr>\n",
       "  </thead>\n",
       "  <tbody>\n",
       "    <tr>\n",
       "      <th>9</th>\n",
       "      <td>01all_window_size_50_128_filters</td>\n",
       "      <td>all</td>\n",
       "      <td>all</td>\n",
       "      <td>42</td>\n",
       "      <td>12</td>\n",
       "      <td>2</td>\n",
       "      <td>50</td>\n",
       "      <td>25</td>\n",
       "      <td>3</td>\n",
       "      <td>normalised</td>\n",
       "      <td>...</td>\n",
       "      <td>0.810263</td>\n",
       "      <td>0.609122</td>\n",
       "      <td>0.04296</td>\n",
       "      <td>0.101629</td>\n",
       "      <td>0.815302</td>\n",
       "      <td>0.964934</td>\n",
       "      <td>0.597862</td>\n",
       "      <td>0.06473</td>\n",
       "      <td>0.062228</td>\n",
       "      <td>0.195575</td>\n",
       "    </tr>\n",
       "  </tbody>\n",
       "</table>\n",
       "<p>1 rows × 32 columns</p>\n",
       "</div>"
      ],
      "text/plain": [
       "                    experiment_name activity_name correctness  random_seed  \\\n",
       "9  01all_window_size_50_128_filters           all         all           42   \n",
       "\n",
       "   n_train_subjects  n_validation_subjects  n_time_steps  step  n_features  \\\n",
       "9                12                      2            50    25           3   \n",
       "\n",
       "     features  ...  mean_accuracy_valid  mean_loss_valid std_accuracy_valid  \\\n",
       "9  normalised  ...             0.810263         0.609122            0.04296   \n",
       "\n",
       "   std_loss_valid  mean_accuracy_test  mean_f1_test  mean_loss_test  \\\n",
       "9        0.101629            0.815302      0.964934        0.597862   \n",
       "\n",
       "   std_accuracy_test  std_f1_test  std_loss_test  \n",
       "9            0.06473     0.062228       0.195575  \n",
       "\n",
       "[1 rows x 32 columns]"
      ]
     },
     "execution_count": 24,
     "metadata": {},
     "output_type": "execute_result"
    }
   ],
   "source": [
    "mask = (experiment_stats_all['batch_size'] == 32) & (experiment_stats_all['num_filters'] == 128)\n",
    "experiment_stats_all[mask]"
   ]
  },
  {
   "cell_type": "code",
   "execution_count": null,
   "metadata": {},
   "outputs": [],
   "source": []
  }
 ],
 "metadata": {
  "kernelspec": {
   "display_name": "Python 3",
   "language": "python",
   "name": "python3"
  },
  "language_info": {
   "codemirror_mode": {
    "name": "ipython",
    "version": 3
   },
   "file_extension": ".py",
   "mimetype": "text/x-python",
   "name": "python",
   "nbconvert_exporter": "python",
   "pygments_lexer": "ipython3",
   "version": "3.7.4"
  }
 },
 "nbformat": 4,
 "nbformat_minor": 4
}
