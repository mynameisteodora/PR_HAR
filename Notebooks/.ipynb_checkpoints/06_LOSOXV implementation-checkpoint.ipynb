{
 "cells": [
  {
   "cell_type": "markdown",
   "metadata": {},
   "source": [
    "Idea: given a model architecture and all necessary parameters, train iteratively using LOSOXV and present final statistics in the forms of:\n",
    "\n",
    "- confusion matrices\n",
    "- learning curves\n",
    "- final test accuracies and losses"
   ]
  },
  {
   "cell_type": "markdown",
   "metadata": {},
   "source": [
    "For the subjects included in training/validation, perform the usual standardisation and normalisation. For the left out subjects, estimate their normalisation with respect to the mins and maxs extracted from the other subjects (to simulate real world scenario).\n",
    "\n",
    "To take this even further - standardise for each window. "
   ]
  },
  {
   "cell_type": "code",
   "execution_count": 1,
   "metadata": {},
   "outputs": [],
   "source": [
    "import sys\n",
    "sys.path.append('..')\n",
    "\n",
    "from utils.constants import *\n",
    "from utils.file_readers import *\n",
    "from utils.data_exploration import *\n",
    "from utils.signal_processing import *\n",
    "from utils.sliding_window import *\n",
    "from utils.stand_norm import *\n",
    "\n",
    "import pandas as pd\n",
    "import random"
   ]
  },
  {
   "cell_type": "code",
   "execution_count": 2,
   "metadata": {},
   "outputs": [],
   "source": [
    "data = pd.read_csv(\"../Preprocessed/raw_data.csv\")"
   ]
  },
  {
   "cell_type": "code",
   "execution_count": 3,
   "metadata": {},
   "outputs": [
    {
     "data": {
      "text/html": [
       "<div>\n",
       "<style scoped>\n",
       "    .dataframe tbody tr th:only-of-type {\n",
       "        vertical-align: middle;\n",
       "    }\n",
       "\n",
       "    .dataframe tbody tr th {\n",
       "        vertical-align: top;\n",
       "    }\n",
       "\n",
       "    .dataframe thead th {\n",
       "        text-align: right;\n",
       "    }\n",
       "</style>\n",
       "<table border=\"1\" class=\"dataframe\">\n",
       "  <thead>\n",
       "    <tr style=\"text-align: right;\">\n",
       "      <th></th>\n",
       "      <th>timestamp</th>\n",
       "      <th>seq</th>\n",
       "      <th>accel_x</th>\n",
       "      <th>accel_y</th>\n",
       "      <th>accel_z</th>\n",
       "      <th>accel_magnitude</th>\n",
       "      <th>accel_pca</th>\n",
       "      <th>subject</th>\n",
       "      <th>activity</th>\n",
       "      <th>correctness</th>\n",
       "    </tr>\n",
       "  </thead>\n",
       "  <tbody>\n",
       "    <tr>\n",
       "      <td>0</td>\n",
       "      <td>1575566873410</td>\n",
       "      <td>0</td>\n",
       "      <td>-0.041016</td>\n",
       "      <td>-0.967773</td>\n",
       "      <td>0.093750</td>\n",
       "      <td>0.973168</td>\n",
       "      <td>0.014811</td>\n",
       "      <td>ron</td>\n",
       "      <td>6</td>\n",
       "      <td>correct</td>\n",
       "    </tr>\n",
       "    <tr>\n",
       "      <td>1</td>\n",
       "      <td>1575566873411</td>\n",
       "      <td>2</td>\n",
       "      <td>-0.044922</td>\n",
       "      <td>-1.047852</td>\n",
       "      <td>0.014648</td>\n",
       "      <td>1.048916</td>\n",
       "      <td>-0.043064</td>\n",
       "      <td>ron</td>\n",
       "      <td>6</td>\n",
       "      <td>correct</td>\n",
       "    </tr>\n",
       "    <tr>\n",
       "      <td>2</td>\n",
       "      <td>1575566873412</td>\n",
       "      <td>4</td>\n",
       "      <td>-0.027344</td>\n",
       "      <td>-0.976562</td>\n",
       "      <td>0.017578</td>\n",
       "      <td>0.977103</td>\n",
       "      <td>-0.051363</td>\n",
       "      <td>ron</td>\n",
       "      <td>6</td>\n",
       "      <td>correct</td>\n",
       "    </tr>\n",
       "    <tr>\n",
       "      <td>3</td>\n",
       "      <td>1575566873412</td>\n",
       "      <td>6</td>\n",
       "      <td>0.016602</td>\n",
       "      <td>-1.014648</td>\n",
       "      <td>-0.028320</td>\n",
       "      <td>1.015179</td>\n",
       "      <td>-0.115484</td>\n",
       "      <td>ron</td>\n",
       "      <td>6</td>\n",
       "      <td>correct</td>\n",
       "    </tr>\n",
       "    <tr>\n",
       "      <td>4</td>\n",
       "      <td>1575566873413</td>\n",
       "      <td>8</td>\n",
       "      <td>-0.015625</td>\n",
       "      <td>-1.026367</td>\n",
       "      <td>-0.033203</td>\n",
       "      <td>1.027023</td>\n",
       "      <td>-0.097935</td>\n",
       "      <td>ron</td>\n",
       "      <td>6</td>\n",
       "      <td>correct</td>\n",
       "    </tr>\n",
       "  </tbody>\n",
       "</table>\n",
       "</div>"
      ],
      "text/plain": [
       "       timestamp  seq   accel_x   accel_y   accel_z  accel_magnitude  \\\n",
       "0  1575566873410    0 -0.041016 -0.967773  0.093750         0.973168   \n",
       "1  1575566873411    2 -0.044922 -1.047852  0.014648         1.048916   \n",
       "2  1575566873412    4 -0.027344 -0.976562  0.017578         0.977103   \n",
       "3  1575566873412    6  0.016602 -1.014648 -0.028320         1.015179   \n",
       "4  1575566873413    8 -0.015625 -1.026367 -0.033203         1.027023   \n",
       "\n",
       "   accel_pca subject  activity correctness  \n",
       "0   0.014811     ron         6     correct  \n",
       "1  -0.043064     ron         6     correct  \n",
       "2  -0.051363     ron         6     correct  \n",
       "3  -0.115484     ron         6     correct  \n",
       "4  -0.097935     ron         6     correct  "
      ]
     },
     "execution_count": 3,
     "metadata": {},
     "output_type": "execute_result"
    }
   ],
   "source": [
    "data.head(5)"
   ]
  },
  {
   "cell_type": "markdown",
   "metadata": {},
   "source": [
    "Add the other columns in preparation for the new data."
   ]
  },
  {
   "cell_type": "code",
   "execution_count": 4,
   "metadata": {},
   "outputs": [],
   "source": [
    "data = data.reindex(columns=['timestamp', 'seq', 'accel_x', 'accel_y', 'accel_z',\n",
    "                             'accel_magnitude', 'accel_pca',\n",
    "                             'subject', 'activity', 'correctness',\n",
    "                             'accel_x_standardised', 'accel_y_standardised', 'accel_z_standardised',\n",
    "                             'accel_magnitude_standardised', 'accel_pca_standardised',\n",
    "                             'accel_x_normalised', 'accel_y_normalised', 'accel_z_normalised',\n",
    "                             'accel_magnitude_normalised', 'accel_pca_normalised'])"
   ]
  },
  {
   "cell_type": "code",
   "execution_count": 5,
   "metadata": {},
   "outputs": [
    {
     "data": {
      "text/html": [
       "<div>\n",
       "<style scoped>\n",
       "    .dataframe tbody tr th:only-of-type {\n",
       "        vertical-align: middle;\n",
       "    }\n",
       "\n",
       "    .dataframe tbody tr th {\n",
       "        vertical-align: top;\n",
       "    }\n",
       "\n",
       "    .dataframe thead th {\n",
       "        text-align: right;\n",
       "    }\n",
       "</style>\n",
       "<table border=\"1\" class=\"dataframe\">\n",
       "  <thead>\n",
       "    <tr style=\"text-align: right;\">\n",
       "      <th></th>\n",
       "      <th>timestamp</th>\n",
       "      <th>seq</th>\n",
       "      <th>accel_x</th>\n",
       "      <th>accel_y</th>\n",
       "      <th>accel_z</th>\n",
       "      <th>accel_magnitude</th>\n",
       "      <th>accel_pca</th>\n",
       "      <th>subject</th>\n",
       "      <th>activity</th>\n",
       "      <th>correctness</th>\n",
       "      <th>accel_x_standardised</th>\n",
       "      <th>accel_y_standardised</th>\n",
       "      <th>accel_z_standardised</th>\n",
       "      <th>accel_magnitude_standardised</th>\n",
       "      <th>accel_pca_standardised</th>\n",
       "      <th>accel_x_normalised</th>\n",
       "      <th>accel_y_normalised</th>\n",
       "      <th>accel_z_normalised</th>\n",
       "      <th>accel_magnitude_normalised</th>\n",
       "      <th>accel_pca_normalised</th>\n",
       "    </tr>\n",
       "  </thead>\n",
       "  <tbody>\n",
       "    <tr>\n",
       "      <td>0</td>\n",
       "      <td>1575566873410</td>\n",
       "      <td>0</td>\n",
       "      <td>-0.041016</td>\n",
       "      <td>-0.967773</td>\n",
       "      <td>0.093750</td>\n",
       "      <td>0.973168</td>\n",
       "      <td>0.014811</td>\n",
       "      <td>ron</td>\n",
       "      <td>6</td>\n",
       "      <td>correct</td>\n",
       "      <td>NaN</td>\n",
       "      <td>NaN</td>\n",
       "      <td>NaN</td>\n",
       "      <td>NaN</td>\n",
       "      <td>NaN</td>\n",
       "      <td>NaN</td>\n",
       "      <td>NaN</td>\n",
       "      <td>NaN</td>\n",
       "      <td>NaN</td>\n",
       "      <td>NaN</td>\n",
       "    </tr>\n",
       "    <tr>\n",
       "      <td>1</td>\n",
       "      <td>1575566873411</td>\n",
       "      <td>2</td>\n",
       "      <td>-0.044922</td>\n",
       "      <td>-1.047852</td>\n",
       "      <td>0.014648</td>\n",
       "      <td>1.048916</td>\n",
       "      <td>-0.043064</td>\n",
       "      <td>ron</td>\n",
       "      <td>6</td>\n",
       "      <td>correct</td>\n",
       "      <td>NaN</td>\n",
       "      <td>NaN</td>\n",
       "      <td>NaN</td>\n",
       "      <td>NaN</td>\n",
       "      <td>NaN</td>\n",
       "      <td>NaN</td>\n",
       "      <td>NaN</td>\n",
       "      <td>NaN</td>\n",
       "      <td>NaN</td>\n",
       "      <td>NaN</td>\n",
       "    </tr>\n",
       "    <tr>\n",
       "      <td>2</td>\n",
       "      <td>1575566873412</td>\n",
       "      <td>4</td>\n",
       "      <td>-0.027344</td>\n",
       "      <td>-0.976562</td>\n",
       "      <td>0.017578</td>\n",
       "      <td>0.977103</td>\n",
       "      <td>-0.051363</td>\n",
       "      <td>ron</td>\n",
       "      <td>6</td>\n",
       "      <td>correct</td>\n",
       "      <td>NaN</td>\n",
       "      <td>NaN</td>\n",
       "      <td>NaN</td>\n",
       "      <td>NaN</td>\n",
       "      <td>NaN</td>\n",
       "      <td>NaN</td>\n",
       "      <td>NaN</td>\n",
       "      <td>NaN</td>\n",
       "      <td>NaN</td>\n",
       "      <td>NaN</td>\n",
       "    </tr>\n",
       "    <tr>\n",
       "      <td>3</td>\n",
       "      <td>1575566873412</td>\n",
       "      <td>6</td>\n",
       "      <td>0.016602</td>\n",
       "      <td>-1.014648</td>\n",
       "      <td>-0.028320</td>\n",
       "      <td>1.015179</td>\n",
       "      <td>-0.115484</td>\n",
       "      <td>ron</td>\n",
       "      <td>6</td>\n",
       "      <td>correct</td>\n",
       "      <td>NaN</td>\n",
       "      <td>NaN</td>\n",
       "      <td>NaN</td>\n",
       "      <td>NaN</td>\n",
       "      <td>NaN</td>\n",
       "      <td>NaN</td>\n",
       "      <td>NaN</td>\n",
       "      <td>NaN</td>\n",
       "      <td>NaN</td>\n",
       "      <td>NaN</td>\n",
       "    </tr>\n",
       "    <tr>\n",
       "      <td>4</td>\n",
       "      <td>1575566873413</td>\n",
       "      <td>8</td>\n",
       "      <td>-0.015625</td>\n",
       "      <td>-1.026367</td>\n",
       "      <td>-0.033203</td>\n",
       "      <td>1.027023</td>\n",
       "      <td>-0.097935</td>\n",
       "      <td>ron</td>\n",
       "      <td>6</td>\n",
       "      <td>correct</td>\n",
       "      <td>NaN</td>\n",
       "      <td>NaN</td>\n",
       "      <td>NaN</td>\n",
       "      <td>NaN</td>\n",
       "      <td>NaN</td>\n",
       "      <td>NaN</td>\n",
       "      <td>NaN</td>\n",
       "      <td>NaN</td>\n",
       "      <td>NaN</td>\n",
       "      <td>NaN</td>\n",
       "    </tr>\n",
       "    <tr>\n",
       "      <td>...</td>\n",
       "      <td>...</td>\n",
       "      <td>...</td>\n",
       "      <td>...</td>\n",
       "      <td>...</td>\n",
       "      <td>...</td>\n",
       "      <td>...</td>\n",
       "      <td>...</td>\n",
       "      <td>...</td>\n",
       "      <td>...</td>\n",
       "      <td>...</td>\n",
       "      <td>...</td>\n",
       "      <td>...</td>\n",
       "      <td>...</td>\n",
       "      <td>...</td>\n",
       "      <td>...</td>\n",
       "      <td>...</td>\n",
       "      <td>...</td>\n",
       "      <td>...</td>\n",
       "      <td>...</td>\n",
       "      <td>...</td>\n",
       "    </tr>\n",
       "    <tr>\n",
       "      <td>126462</td>\n",
       "      <td>1574270078523</td>\n",
       "      <td>1140</td>\n",
       "      <td>-0.039062</td>\n",
       "      <td>-0.991211</td>\n",
       "      <td>0.018555</td>\n",
       "      <td>0.992154</td>\n",
       "      <td>0.255054</td>\n",
       "      <td>andrius</td>\n",
       "      <td>7</td>\n",
       "      <td>incorrect</td>\n",
       "      <td>NaN</td>\n",
       "      <td>NaN</td>\n",
       "      <td>NaN</td>\n",
       "      <td>NaN</td>\n",
       "      <td>NaN</td>\n",
       "      <td>NaN</td>\n",
       "      <td>NaN</td>\n",
       "      <td>NaN</td>\n",
       "      <td>NaN</td>\n",
       "      <td>NaN</td>\n",
       "    </tr>\n",
       "    <tr>\n",
       "      <td>126463</td>\n",
       "      <td>1574270078524</td>\n",
       "      <td>1142</td>\n",
       "      <td>-0.059570</td>\n",
       "      <td>-0.852539</td>\n",
       "      <td>0.073242</td>\n",
       "      <td>0.857750</td>\n",
       "      <td>0.207447</td>\n",
       "      <td>andrius</td>\n",
       "      <td>7</td>\n",
       "      <td>incorrect</td>\n",
       "      <td>NaN</td>\n",
       "      <td>NaN</td>\n",
       "      <td>NaN</td>\n",
       "      <td>NaN</td>\n",
       "      <td>NaN</td>\n",
       "      <td>NaN</td>\n",
       "      <td>NaN</td>\n",
       "      <td>NaN</td>\n",
       "      <td>NaN</td>\n",
       "      <td>NaN</td>\n",
       "    </tr>\n",
       "    <tr>\n",
       "      <td>126464</td>\n",
       "      <td>1574270078525</td>\n",
       "      <td>1144</td>\n",
       "      <td>0.044922</td>\n",
       "      <td>-0.928711</td>\n",
       "      <td>0.091797</td>\n",
       "      <td>0.934317</td>\n",
       "      <td>0.143565</td>\n",
       "      <td>andrius</td>\n",
       "      <td>7</td>\n",
       "      <td>incorrect</td>\n",
       "      <td>NaN</td>\n",
       "      <td>NaN</td>\n",
       "      <td>NaN</td>\n",
       "      <td>NaN</td>\n",
       "      <td>NaN</td>\n",
       "      <td>NaN</td>\n",
       "      <td>NaN</td>\n",
       "      <td>NaN</td>\n",
       "      <td>NaN</td>\n",
       "      <td>NaN</td>\n",
       "    </tr>\n",
       "    <tr>\n",
       "      <td>126465</td>\n",
       "      <td>1574270078525</td>\n",
       "      <td>1146</td>\n",
       "      <td>0.051758</td>\n",
       "      <td>-0.919922</td>\n",
       "      <td>0.077148</td>\n",
       "      <td>0.924601</td>\n",
       "      <td>0.151630</td>\n",
       "      <td>andrius</td>\n",
       "      <td>7</td>\n",
       "      <td>incorrect</td>\n",
       "      <td>NaN</td>\n",
       "      <td>NaN</td>\n",
       "      <td>NaN</td>\n",
       "      <td>NaN</td>\n",
       "      <td>NaN</td>\n",
       "      <td>NaN</td>\n",
       "      <td>NaN</td>\n",
       "      <td>NaN</td>\n",
       "      <td>NaN</td>\n",
       "      <td>NaN</td>\n",
       "    </tr>\n",
       "    <tr>\n",
       "      <td>126466</td>\n",
       "      <td>1574270078526</td>\n",
       "      <td>1148</td>\n",
       "      <td>0.054688</td>\n",
       "      <td>-0.914062</td>\n",
       "      <td>0.063477</td>\n",
       "      <td>0.917894</td>\n",
       "      <td>0.161170</td>\n",
       "      <td>andrius</td>\n",
       "      <td>7</td>\n",
       "      <td>incorrect</td>\n",
       "      <td>NaN</td>\n",
       "      <td>NaN</td>\n",
       "      <td>NaN</td>\n",
       "      <td>NaN</td>\n",
       "      <td>NaN</td>\n",
       "      <td>NaN</td>\n",
       "      <td>NaN</td>\n",
       "      <td>NaN</td>\n",
       "      <td>NaN</td>\n",
       "      <td>NaN</td>\n",
       "    </tr>\n",
       "  </tbody>\n",
       "</table>\n",
       "<p>126467 rows × 20 columns</p>\n",
       "</div>"
      ],
      "text/plain": [
       "            timestamp   seq   accel_x   accel_y   accel_z  accel_magnitude  \\\n",
       "0       1575566873410     0 -0.041016 -0.967773  0.093750         0.973168   \n",
       "1       1575566873411     2 -0.044922 -1.047852  0.014648         1.048916   \n",
       "2       1575566873412     4 -0.027344 -0.976562  0.017578         0.977103   \n",
       "3       1575566873412     6  0.016602 -1.014648 -0.028320         1.015179   \n",
       "4       1575566873413     8 -0.015625 -1.026367 -0.033203         1.027023   \n",
       "...               ...   ...       ...       ...       ...              ...   \n",
       "126462  1574270078523  1140 -0.039062 -0.991211  0.018555         0.992154   \n",
       "126463  1574270078524  1142 -0.059570 -0.852539  0.073242         0.857750   \n",
       "126464  1574270078525  1144  0.044922 -0.928711  0.091797         0.934317   \n",
       "126465  1574270078525  1146  0.051758 -0.919922  0.077148         0.924601   \n",
       "126466  1574270078526  1148  0.054688 -0.914062  0.063477         0.917894   \n",
       "\n",
       "        accel_pca  subject  activity correctness  accel_x_standardised  \\\n",
       "0        0.014811      ron         6     correct                   NaN   \n",
       "1       -0.043064      ron         6     correct                   NaN   \n",
       "2       -0.051363      ron         6     correct                   NaN   \n",
       "3       -0.115484      ron         6     correct                   NaN   \n",
       "4       -0.097935      ron         6     correct                   NaN   \n",
       "...           ...      ...       ...         ...                   ...   \n",
       "126462   0.255054  andrius         7   incorrect                   NaN   \n",
       "126463   0.207447  andrius         7   incorrect                   NaN   \n",
       "126464   0.143565  andrius         7   incorrect                   NaN   \n",
       "126465   0.151630  andrius         7   incorrect                   NaN   \n",
       "126466   0.161170  andrius         7   incorrect                   NaN   \n",
       "\n",
       "        accel_y_standardised  accel_z_standardised  \\\n",
       "0                        NaN                   NaN   \n",
       "1                        NaN                   NaN   \n",
       "2                        NaN                   NaN   \n",
       "3                        NaN                   NaN   \n",
       "4                        NaN                   NaN   \n",
       "...                      ...                   ...   \n",
       "126462                   NaN                   NaN   \n",
       "126463                   NaN                   NaN   \n",
       "126464                   NaN                   NaN   \n",
       "126465                   NaN                   NaN   \n",
       "126466                   NaN                   NaN   \n",
       "\n",
       "        accel_magnitude_standardised  accel_pca_standardised  \\\n",
       "0                                NaN                     NaN   \n",
       "1                                NaN                     NaN   \n",
       "2                                NaN                     NaN   \n",
       "3                                NaN                     NaN   \n",
       "4                                NaN                     NaN   \n",
       "...                              ...                     ...   \n",
       "126462                           NaN                     NaN   \n",
       "126463                           NaN                     NaN   \n",
       "126464                           NaN                     NaN   \n",
       "126465                           NaN                     NaN   \n",
       "126466                           NaN                     NaN   \n",
       "\n",
       "        accel_x_normalised  accel_y_normalised  accel_z_normalised  \\\n",
       "0                      NaN                 NaN                 NaN   \n",
       "1                      NaN                 NaN                 NaN   \n",
       "2                      NaN                 NaN                 NaN   \n",
       "3                      NaN                 NaN                 NaN   \n",
       "4                      NaN                 NaN                 NaN   \n",
       "...                    ...                 ...                 ...   \n",
       "126462                 NaN                 NaN                 NaN   \n",
       "126463                 NaN                 NaN                 NaN   \n",
       "126464                 NaN                 NaN                 NaN   \n",
       "126465                 NaN                 NaN                 NaN   \n",
       "126466                 NaN                 NaN                 NaN   \n",
       "\n",
       "        accel_magnitude_normalised  accel_pca_normalised  \n",
       "0                              NaN                   NaN  \n",
       "1                              NaN                   NaN  \n",
       "2                              NaN                   NaN  \n",
       "3                              NaN                   NaN  \n",
       "4                              NaN                   NaN  \n",
       "...                            ...                   ...  \n",
       "126462                         NaN                   NaN  \n",
       "126463                         NaN                   NaN  \n",
       "126464                         NaN                   NaN  \n",
       "126465                         NaN                   NaN  \n",
       "126466                         NaN                   NaN  \n",
       "\n",
       "[126467 rows x 20 columns]"
      ]
     },
     "execution_count": 5,
     "metadata": {},
     "output_type": "execute_result"
    }
   ],
   "source": [
    "data"
   ]
  },
  {
   "cell_type": "markdown",
   "metadata": {},
   "source": [
    "#### Set seed for experiment reproducibility"
   ]
  },
  {
   "cell_type": "code",
   "execution_count": 6,
   "metadata": {},
   "outputs": [],
   "source": [
    "random.seed(42)"
   ]
  },
  {
   "cell_type": "markdown",
   "metadata": {},
   "source": [
    "For each subject to be left out, generate the training and validation sets (keeping them random)."
   ]
  },
  {
   "cell_type": "code",
   "execution_count": 19,
   "metadata": {},
   "outputs": [],
   "source": [
    "subjects = get_subject_names()\n",
    "n_subjects = len(subjects)\n",
    "\n",
    "n_train_subjects = 12\n",
    "n_validation_subjects = 2"
   ]
  },
  {
   "cell_type": "code",
   "execution_count": 8,
   "metadata": {},
   "outputs": [],
   "source": [
    "def generate_range(n, end, start=0):\n",
    "    return list(range(start, n)) + list(range(n+1, end))"
   ]
  },
  {
   "cell_type": "code",
   "execution_count": 9,
   "metadata": {},
   "outputs": [
    {
     "name": "stdout",
     "output_type": "stream",
     "text": [
      "Left out subject = adela\n",
      "Test subjects = ['aggie', 'andrius', 'diana', 'jack', 'joao', 'nikita', 'rim', 'ron', 'santi', 'seb', 'sharan', 'teo']\n",
      "Validation subjects = ['lukasz', 'zoe']\n",
      "Left out subject = aggie\n",
      "Test subjects = ['adela', 'andrius', 'diana', 'jack', 'joao', 'lukasz', 'nikita', 'rim', 'santi', 'sharan', 'teo', 'zoe']\n",
      "Validation subjects = ['ron', 'seb']\n"
     ]
    }
   ],
   "source": [
    "for i in range(len(subjects)):\n",
    "    \n",
    "    # early stopping for testing\n",
    "    if i > 1:\n",
    "        break\n",
    "    \n",
    "    # generate training, validation and test subjects\n",
    "    \n",
    "    left_out_subject = subjects[i]\n",
    "    print(\"Left out subject = {}\".format(subjects[i]))\n",
    "    \n",
    "    rng = generate_range(i, n_subjects)\n",
    "    \n",
    "    test_subjects = set()\n",
    "    while(len(test_subjects) < n_test_subjects):\n",
    "        choice = random.choice(rng)\n",
    "        test_subjects.add(choice)\n",
    "    \n",
    "    # for validation, take the remaining ones\n",
    "    valid_subjects = [subjects[j] for j in (set(rng) - test_subjects)]\n",
    "    \n",
    "    test_subjects = [subjects[j] for j in test_subjects]\n",
    "    \n",
    "    print(\"Test subjects = {}\".format(test_subjects))\n",
    "    print(\"Validation subjects = {}\".format(valid_subjects))"
   ]
  },
  {
   "cell_type": "markdown",
   "metadata": {},
   "source": [
    "Test the stand_norm functions"
   ]
  },
  {
   "cell_type": "code",
   "execution_count": 10,
   "metadata": {},
   "outputs": [
    {
     "name": "stdout",
     "output_type": "stream",
     "text": [
      "Original dataframe length = 29195\n",
      "New dataframe length = 29055\n",
      "Removed 140 outliers\n"
     ]
    }
   ],
   "source": [
    "data_clean, means_by_act, std_by_act = remove_outliers(data, activities='all', subjects=['teo', 'ron', 'andrius'], correctness='correct')"
   ]
  },
  {
   "cell_type": "code",
   "execution_count": 11,
   "metadata": {},
   "outputs": [
    {
     "data": {
      "text/plain": [
       "{0: [0.2577490385667352, 0.1642844929482449, 0.2477963008697215],\n",
       " 1: [0.09059516067903911, 0.06343716673730379, 0.2778881752236187],\n",
       " 2: [0.08869441750733781, 0.11304192903401535, 0.1984747362181412],\n",
       " 3: [0.12677547010233195, 0.09944487332025702, 0.1851614444732405],\n",
       " 4: [0.05947081673869833, 0.040674504960592, 0.14664456447883373],\n",
       " 5: [0.07889771024957405, 0.0452279847036007, 0.10721209494930906],\n",
       " 6: [0.13396303261674902, 0.05086928140800426, 0.1758727791771411],\n",
       " 7: [0.16669652381576355, 0.06991917571806729, 0.13221954384051607],\n",
       " 8: [0.14716514118574595, 0.20141747063309975, 0.1973238368660693],\n",
       " 9: [0.16711529810448972, 0.19557054538808238, 0.17869074697413256]}"
      ]
     },
     "execution_count": 11,
     "metadata": {},
     "output_type": "execute_result"
    }
   ],
   "source": [
    "std_by_act"
   ]
  },
  {
   "cell_type": "code",
   "execution_count": 12,
   "metadata": {},
   "outputs": [
    {
     "name": "stdout",
     "output_type": "stream",
     "text": [
      "Original dataframe length = 38160\n",
      "New dataframe length = 37956\n",
      "Removed 204 outliers\n"
     ]
    }
   ],
   "source": [
    "data_clean, means_by_act, std_by_act = remove_outliers(data, activities='all', subjects=['teo', 'ron', 'andrius', 'adela'], correctness='correct')"
   ]
  },
  {
   "cell_type": "code",
   "execution_count": 13,
   "metadata": {},
   "outputs": [
    {
     "data": {
      "text/plain": [
       "{0: [0.261448251538841, 0.18006770366250469, 0.2671119210243758],\n",
       " 1: [0.13246180542941038, 0.060780094217764466, 0.2433965375242247],\n",
       " 2: [0.09206349006390777, 0.1266059098744415, 0.18733271750416028],\n",
       " 3: [0.1189303909685416, 0.10148595113070484, 0.19819802733837388],\n",
       " 4: [0.10025591460469059, 0.03974761091400418, 0.13479988601569806],\n",
       " 5: [0.12781043251652519, 0.04754851916662334, 0.10083620476356615],\n",
       " 6: [0.16261931327198598, 0.05424807752671907, 0.16806515181394793],\n",
       " 7: [0.17770464238606537, 0.07008980210441462, 0.14567743495688382],\n",
       " 8: [0.18373402531829192, 0.22303518458051697, 0.18762745239196438],\n",
       " 9: [0.18612267852590164, 0.19061572965810591, 0.17366316322545802]}"
      ]
     },
     "execution_count": 13,
     "metadata": {},
     "output_type": "execute_result"
    }
   ],
   "source": [
    "std_by_act"
   ]
  },
  {
   "cell_type": "markdown",
   "metadata": {},
   "source": [
    "Maybe a function to write these to a csv file? "
   ]
  },
  {
   "cell_type": "code",
   "execution_count": 14,
   "metadata": {},
   "outputs": [],
   "source": [
    "data_std = standardise_data(data_clean, activities='all', subjects=['teo', 'ron', 'andrius', 'adela'], correctness='correct')"
   ]
  },
  {
   "cell_type": "code",
   "execution_count": 15,
   "metadata": {},
   "outputs": [
    {
     "data": {
      "text/plain": [
       "Text(0.5, 1.0, 'Before standardisation')"
      ]
     },
     "execution_count": 15,
     "metadata": {},
     "output_type": "execute_result"
    },
    {
     "data": {
      "image/png": "[encoded data removed]",
      "text/plain": [
       "<Figure size 432x288 with 1 Axes>"
      ]
     },
     "metadata": {
      "needs_background": "light"
     },
     "output_type": "display_data"
    }
   ],
   "source": [
    "mask = mask = (data_std['subject'] == 'teo') & (data_std['activity'] == 1) & (data_std['correctness'] == 'correct')\n",
    "plt.plot(data_std[mask]['accel_pca'])\n",
    "plt.title(\"Before standardisation\")"
   ]
  },
  {
   "cell_type": "code",
   "execution_count": 16,
   "metadata": {},
   "outputs": [
    {
     "data": {
      "text/plain": [
       "Text(0.5, 1.0, 'After standardisation')"
      ]
     },
     "execution_count": 16,
     "metadata": {},
     "output_type": "execute_result"
    },
    {
     "data": {
      "image/png": "[encoded data removed]",
      "text/plain": [
       "<Figure size 432x288 with 1 Axes>"
      ]
     },
     "metadata": {
      "needs_background": "light"
     },
     "output_type": "display_data"
    }
   ],
   "source": [
    "plt.plot(data_std[mask]['accel_pca_standardised'])\n",
    "plt.title(\"After standardisation\")"
   ]
  },
  {
   "cell_type": "code",
   "execution_count": 17,
   "metadata": {},
   "outputs": [],
   "source": [
    "data_norm = normalise_data(data_std, activities='all', subjects=['teo', 'ron', 'andrius', 'adela'], correctness='correct')"
   ]
  },
  {
   "cell_type": "code",
   "execution_count": 18,
   "metadata": {},
   "outputs": [
    {
     "data": {
      "text/plain": [
       "[<matplotlib.lines.Line2D at 0x1a27bd2790>]"
      ]
     },
     "execution_count": 18,
     "metadata": {},
     "output_type": "execute_result"
    },
    {
     "data": {
      "image/png": "[encoded data removed]",
      "text/plain": [
       "<Figure size 432x288 with 1 Axes>"
      ]
     },
     "metadata": {
      "needs_background": "light"
     },
     "output_type": "display_data"
    }
   ],
   "source": [
    "plt.plot(data_norm[mask]['accel_magnitude_normalised'])"
   ]
  },
  {
   "cell_type": "markdown",
   "metadata": {},
   "source": [
    "I can see that there are definitely some changes when you have fewer subjects to estimate this on, which is good, it means that the functions are working. Next, do this for each left out subject."
   ]
  },
  {
   "cell_type": "code",
   "execution_count": 20,
   "metadata": {},
   "outputs": [],
   "source": [
    "data = pd.read_csv(\"../Preprocessed/raw_data.csv\")\n",
    "data = data.reindex(columns=['timestamp', 'seq', 'accel_x', 'accel_y', 'accel_z',\n",
    "                             'accel_magnitude', 'accel_pca',\n",
    "                             'subject', 'activity', 'correctness',\n",
    "                             'accel_x_standardised', 'accel_y_standardised', 'accel_z_standardised',\n",
    "                             'accel_magnitude_standardised', 'accel_pca_standardised',\n",
    "                             'accel_x_normalised', 'accel_y_normalised', 'accel_z_normalised',\n",
    "                             'accel_magnitude_normalised', 'accel_pca_normalised'])\n",
    "\n",
    "random.seed(42)"
   ]
  },
  {
   "cell_type": "code",
   "execution_count": 21,
   "metadata": {},
   "outputs": [],
   "source": [
    "activities = 'all'\n",
    "correctness = 'correct'"
   ]
  },
  {
   "cell_type": "code",
   "execution_count": 22,
   "metadata": {},
   "outputs": [],
   "source": [
    "n_time_steps = 38\n",
    "step = 19\n",
    "n_features = 3"
   ]
  },
  {
   "cell_type": "code",
   "execution_count": 23,
   "metadata": {},
   "outputs": [],
   "source": [
    "features = ['accel_x_normalised', 'accel_y_normalised', 'accel_z_normalised']"
   ]
  },
  {
   "cell_type": "code",
   "execution_count": null,
   "metadata": {},
   "outputs": [],
   "source": [
    "for i in range(len(subjects)):\n",
    "    \n",
    "    # early stopping for testing\n",
    "    if i > 1:\n",
    "        break\n",
    "    \n",
    "    # generate training, validation and test subjects\n",
    "    \n",
    "    left_out_subject = subjects[i]\n",
    "    print(\"Left out subject = {}\".format(subjects[i]))\n",
    "    \n",
    "    rng = generate_range(i, n_subjects)\n",
    "    \n",
    "    train_subjects = set()\n",
    "    while(len(train_subjects) < n_train_subjects):\n",
    "        choice = random.choice(rng)\n",
    "        train_subjects.add(choice)\n",
    "    \n",
    "    # for validation, take the remaining ones\n",
    "    valid_subjects = [subjects[j] for j in (set(rng) - train_subjects)]\n",
    "    \n",
    "    train_subjects = [subjects[j] for j in train_subjects]\n",
    "    \n",
    "    print(\"Test subjects = {}\".format(train_subjects))\n",
    "    print(\"Validation subjects = {}\".format(valid_subjects))\n",
    "    \n",
    "    train_valid_subjects = train_subjects + valid_subjects\n",
    "    \n",
    "    # split the data\n",
    "    mask_subj = (data['subject'] == train_valid_subjects[0])\n",
    "    for tvs in train_valid_subjects:\n",
    "        mask_subj = mask_subj | (data['subject'] == tvs)\n",
    "        \n",
    "    data_train = data[mask_subj]\n",
    "    data_train.reset_index(drop=True, inplace=True)\n",
    "    \n",
    "    data_test = data[data['subject'] == left_out_subject]\n",
    "    data_test.reset_index(drop=True, inplace=True)\n",
    "    \n",
    "    # remove outliers for training\n",
    "    data_train, _, _ = remove_outliers(data_train, activities=activities, subjects=train_valid_subjects, correctness=correctness)\n",
    "    \n",
    "    # remove outliers for test\n",
    "    data_test, _, _ = remove_outliers(data_test, activities=activities, subjects=[left_out_subject], correctness=correctness)\n",
    "    \n",
    "    # standardise for training\n",
    "    data_train = standardise_data(data_train, activities=activities, subjects=train_valid_subjects, correctness=correctness)\n",
    "    \n",
    "    # standardise for test\n",
    "    data_test, _, _ = standardise_data(data_test, activities=activities, subjects=[left_out_subject], correctness=correctness)\n",
    "    \n",
    "    # normalise for training\n",
    "    data_train = normalise_data(data_train, activities=activities, subjects=train_valid_subjects, correctness=correctness)\n",
    "    \n",
    "    # normalise for test\n",
    "    data_test, _, _ = normalise_data(data_test, activities=activities, subjects=[left_out_subject], correctness=correctness)\n",
    "    \n",
    "    \n",
    "    # Generate datasets\n",
    "    X_train, y_train = generate_dataset(df=data_train, n_time_steps=n_time_steps, n_features=n_features,\n",
    "                                   step=step, features=features,\n",
    "                                   one_vs_all_activity='all', subjects=train_subjects, correctness=correctness)"
   ]
  }
 ],
 "metadata": {
  "kernelspec": {
   "display_name": "Python 3",
   "language": "python",
   "name": "python3"
  },
  "language_info": {
   "codemirror_mode": {
    "name": "ipython",
    "version": 3
   },
   "file_extension": ".py",
   "mimetype": "text/x-python",
   "name": "python",
   "nbconvert_exporter": "python",
   "pygments_lexer": "ipython3",
   "version": "3.7.4"
  }
 },
 "nbformat": 4,
 "nbformat_minor": 2
}
